{
 "cells": [
  {
   "cell_type": "markdown",
   "metadata": {},
   "source": [
    "# K-Means Clustering"
   ]
  },
  {
   "cell_type": "markdown",
   "metadata": {},
   "source": [
    "This notebook provides an example code of splitting wine buyers into clusters based on the information about the offers they accepted. We will work with 2 datasets, one describes the overall transcations by different customers, the offers they accepted and the offer information. The second one includes information on accepted offers-if the offer was accepted, it is 1, if no-it is 0.\n",
    "\n",
    "The general sequence of steps that we will follow is the following:\n",
    "\n",
    "- Data manipulation\n",
    "    - reading and understanding the data\n",
    "- Model construction and interpretation\n",
    "    - Model 1: K-Means model with k number of clusters defined by ourselves\n",
    "    - Elbow Method to decide the optimal k\n",
    "    - Silhouette Method to decide the optimal k\n",
    "    - Model 2: K-Means model with the optimal k\n",
    "    - Joining final clusters to the data and getting insights using groupby and aggregation"
   ]
  },
  {
   "cell_type": "code",
   "execution_count": 1,
   "metadata": {
    "ExecuteTime": {
     "end_time": "2020-05-07T15:50:37.773509Z",
     "start_time": "2020-05-07T15:50:34.842807Z"
    }
   },
   "outputs": [],
   "source": [
    "import pandas as pd\n",
    "from sklearn.cluster import KMeans\n",
    "import numpy as np\n",
    "import matplotlib.pyplot as plt\n",
    "from sklearn.metrics import silhouette_score\n",
    "from scikitplot.cluster import plot_elbow_curve"
   ]
  },
  {
   "cell_type": "code",
   "execution_count": 3,
   "metadata": {
    "ExecuteTime": {
     "end_time": "2020-05-07T15:50:41.445919Z",
     "start_time": "2020-05-07T15:50:41.440930Z"
    }
   },
   "outputs": [],
   "source": [
    "url1=\"https://raw.githubusercontent.com/srbuhimirzoyan/Business_Analytics_Spring2020/master/Session_10_KMeans_Wine_data_customers.xlsx\"\n",
    "url2=\"https://raw.githubusercontent.com/srbuhimirzoyan/Business_Analytics_Spring2020/master/Session_10_KMeans_Wine_data_transactions.xlsx\""
   ]
  },
  {
   "cell_type": "code",
   "execution_count": 4,
   "metadata": {
    "ExecuteTime": {
     "end_time": "2020-05-07T15:50:44.055649Z",
     "start_time": "2020-05-07T15:50:42.673093Z"
    }
   },
   "outputs": [],
   "source": [
    "data=pd.read_excel(url1)\n",
    "transactions=pd.read_excel(url2)"
   ]
  },
  {
   "cell_type": "code",
   "execution_count": 5,
   "metadata": {
    "ExecuteTime": {
     "end_time": "2020-05-07T15:50:44.091239Z",
     "start_time": "2020-05-07T15:50:44.058326Z"
    }
   },
   "outputs": [
    {
     "data": {
      "text/html": [
       "<div>\n",
       "<style scoped>\n",
       "    .dataframe tbody tr th:only-of-type {\n",
       "        vertical-align: middle;\n",
       "    }\n",
       "\n",
       "    .dataframe tbody tr th {\n",
       "        vertical-align: top;\n",
       "    }\n",
       "\n",
       "    .dataframe thead th {\n",
       "        text-align: right;\n",
       "    }\n",
       "</style>\n",
       "<table border=\"1\" class=\"dataframe\">\n",
       "  <thead>\n",
       "    <tr style=\"text-align: right;\">\n",
       "      <th></th>\n",
       "      <th>Customer_Names</th>\n",
       "      <th>Offer_1</th>\n",
       "      <th>Offer_2</th>\n",
       "      <th>Offer_3</th>\n",
       "      <th>Offer_4</th>\n",
       "      <th>Offer_5</th>\n",
       "      <th>Offer_6</th>\n",
       "      <th>Offer_7</th>\n",
       "      <th>Offer_8</th>\n",
       "      <th>Offer_9</th>\n",
       "      <th>...</th>\n",
       "      <th>Offer_23</th>\n",
       "      <th>Offer_24</th>\n",
       "      <th>Offer_25</th>\n",
       "      <th>Offer_26</th>\n",
       "      <th>Offer_27</th>\n",
       "      <th>Offer_28</th>\n",
       "      <th>Offer_29</th>\n",
       "      <th>Offer_30</th>\n",
       "      <th>Offer_31</th>\n",
       "      <th>Offer_32</th>\n",
       "    </tr>\n",
       "  </thead>\n",
       "  <tbody>\n",
       "    <tr>\n",
       "      <td>0</td>\n",
       "      <td>Adams</td>\n",
       "      <td>0</td>\n",
       "      <td>0</td>\n",
       "      <td>0</td>\n",
       "      <td>0</td>\n",
       "      <td>0</td>\n",
       "      <td>0</td>\n",
       "      <td>0</td>\n",
       "      <td>0</td>\n",
       "      <td>0</td>\n",
       "      <td>...</td>\n",
       "      <td>0</td>\n",
       "      <td>0</td>\n",
       "      <td>0</td>\n",
       "      <td>0</td>\n",
       "      <td>0</td>\n",
       "      <td>0</td>\n",
       "      <td>1</td>\n",
       "      <td>1</td>\n",
       "      <td>0</td>\n",
       "      <td>0</td>\n",
       "    </tr>\n",
       "    <tr>\n",
       "      <td>1</td>\n",
       "      <td>Allen</td>\n",
       "      <td>0</td>\n",
       "      <td>0</td>\n",
       "      <td>0</td>\n",
       "      <td>0</td>\n",
       "      <td>0</td>\n",
       "      <td>0</td>\n",
       "      <td>0</td>\n",
       "      <td>0</td>\n",
       "      <td>1</td>\n",
       "      <td>...</td>\n",
       "      <td>0</td>\n",
       "      <td>0</td>\n",
       "      <td>0</td>\n",
       "      <td>0</td>\n",
       "      <td>1</td>\n",
       "      <td>0</td>\n",
       "      <td>0</td>\n",
       "      <td>0</td>\n",
       "      <td>0</td>\n",
       "      <td>0</td>\n",
       "    </tr>\n",
       "    <tr>\n",
       "      <td>2</td>\n",
       "      <td>Anderson</td>\n",
       "      <td>0</td>\n",
       "      <td>0</td>\n",
       "      <td>0</td>\n",
       "      <td>0</td>\n",
       "      <td>0</td>\n",
       "      <td>0</td>\n",
       "      <td>0</td>\n",
       "      <td>0</td>\n",
       "      <td>0</td>\n",
       "      <td>...</td>\n",
       "      <td>0</td>\n",
       "      <td>1</td>\n",
       "      <td>0</td>\n",
       "      <td>1</td>\n",
       "      <td>0</td>\n",
       "      <td>0</td>\n",
       "      <td>0</td>\n",
       "      <td>0</td>\n",
       "      <td>0</td>\n",
       "      <td>0</td>\n",
       "    </tr>\n",
       "    <tr>\n",
       "      <td>3</td>\n",
       "      <td>Bailey</td>\n",
       "      <td>0</td>\n",
       "      <td>0</td>\n",
       "      <td>0</td>\n",
       "      <td>0</td>\n",
       "      <td>0</td>\n",
       "      <td>0</td>\n",
       "      <td>1</td>\n",
       "      <td>0</td>\n",
       "      <td>0</td>\n",
       "      <td>...</td>\n",
       "      <td>0</td>\n",
       "      <td>0</td>\n",
       "      <td>0</td>\n",
       "      <td>0</td>\n",
       "      <td>0</td>\n",
       "      <td>0</td>\n",
       "      <td>0</td>\n",
       "      <td>1</td>\n",
       "      <td>0</td>\n",
       "      <td>0</td>\n",
       "    </tr>\n",
       "    <tr>\n",
       "      <td>4</td>\n",
       "      <td>Baker</td>\n",
       "      <td>0</td>\n",
       "      <td>0</td>\n",
       "      <td>0</td>\n",
       "      <td>0</td>\n",
       "      <td>0</td>\n",
       "      <td>0</td>\n",
       "      <td>1</td>\n",
       "      <td>0</td>\n",
       "      <td>0</td>\n",
       "      <td>...</td>\n",
       "      <td>0</td>\n",
       "      <td>0</td>\n",
       "      <td>0</td>\n",
       "      <td>0</td>\n",
       "      <td>0</td>\n",
       "      <td>0</td>\n",
       "      <td>0</td>\n",
       "      <td>0</td>\n",
       "      <td>1</td>\n",
       "      <td>0</td>\n",
       "    </tr>\n",
       "  </tbody>\n",
       "</table>\n",
       "<p>5 rows × 33 columns</p>\n",
       "</div>"
      ],
      "text/plain": [
       "  Customer_Names  Offer_1  Offer_2  Offer_3  Offer_4  Offer_5  Offer_6  \\\n",
       "0          Adams        0        0        0        0        0        0   \n",
       "1          Allen        0        0        0        0        0        0   \n",
       "2       Anderson        0        0        0        0        0        0   \n",
       "3         Bailey        0        0        0        0        0        0   \n",
       "4          Baker        0        0        0        0        0        0   \n",
       "\n",
       "   Offer_7  Offer_8  Offer_9  ...  Offer_23  Offer_24  Offer_25  Offer_26  \\\n",
       "0        0        0        0  ...         0         0         0         0   \n",
       "1        0        0        1  ...         0         0         0         0   \n",
       "2        0        0        0  ...         0         1         0         1   \n",
       "3        1        0        0  ...         0         0         0         0   \n",
       "4        1        0        0  ...         0         0         0         0   \n",
       "\n",
       "   Offer_27  Offer_28  Offer_29  Offer_30  Offer_31  Offer_32  \n",
       "0         0         0         1         1         0         0  \n",
       "1         1         0         0         0         0         0  \n",
       "2         0         0         0         0         0         0  \n",
       "3         0         0         0         1         0         0  \n",
       "4         0         0         0         0         1         0  \n",
       "\n",
       "[5 rows x 33 columns]"
      ]
     },
     "execution_count": 5,
     "metadata": {},
     "output_type": "execute_result"
    }
   ],
   "source": [
    "#we have information about 32 offers of 100 customers. In case the offer was accepted, the value under respective column is 1,\n",
    "#otherwise 0\n",
    "data.head()"
   ]
  },
  {
   "cell_type": "code",
   "execution_count": 6,
   "metadata": {
    "ExecuteTime": {
     "end_time": "2020-05-07T15:50:44.353698Z",
     "start_time": "2020-05-07T15:50:44.338723Z"
    }
   },
   "outputs": [
    {
     "data": {
      "text/html": [
       "<div>\n",
       "<style scoped>\n",
       "    .dataframe tbody tr th:only-of-type {\n",
       "        vertical-align: middle;\n",
       "    }\n",
       "\n",
       "    .dataframe tbody tr th {\n",
       "        vertical-align: top;\n",
       "    }\n",
       "\n",
       "    .dataframe thead th {\n",
       "        text-align: right;\n",
       "    }\n",
       "</style>\n",
       "<table border=\"1\" class=\"dataframe\">\n",
       "  <thead>\n",
       "    <tr style=\"text-align: right;\">\n",
       "      <th></th>\n",
       "      <th>Customer_Names</th>\n",
       "      <th>Offer #</th>\n",
       "      <th>Gender</th>\n",
       "      <th>Discount</th>\n",
       "      <th>Varietal</th>\n",
       "      <th>Origin</th>\n",
       "    </tr>\n",
       "  </thead>\n",
       "  <tbody>\n",
       "    <tr>\n",
       "      <td>0</td>\n",
       "      <td>Smith</td>\n",
       "      <td>2</td>\n",
       "      <td>Male</td>\n",
       "      <td>17</td>\n",
       "      <td>Pinot Noir</td>\n",
       "      <td>France</td>\n",
       "    </tr>\n",
       "    <tr>\n",
       "      <td>1</td>\n",
       "      <td>Smith</td>\n",
       "      <td>24</td>\n",
       "      <td>Male</td>\n",
       "      <td>34</td>\n",
       "      <td>Pinot Noir</td>\n",
       "      <td>Italy</td>\n",
       "    </tr>\n",
       "    <tr>\n",
       "      <td>2</td>\n",
       "      <td>Johnson</td>\n",
       "      <td>17</td>\n",
       "      <td>Male</td>\n",
       "      <td>47</td>\n",
       "      <td>Pinot Noir</td>\n",
       "      <td>Germany</td>\n",
       "    </tr>\n",
       "    <tr>\n",
       "      <td>3</td>\n",
       "      <td>Johnson</td>\n",
       "      <td>24</td>\n",
       "      <td>Male</td>\n",
       "      <td>34</td>\n",
       "      <td>Pinot Noir</td>\n",
       "      <td>Italy</td>\n",
       "    </tr>\n",
       "    <tr>\n",
       "      <td>4</td>\n",
       "      <td>Johnson</td>\n",
       "      <td>26</td>\n",
       "      <td>Male</td>\n",
       "      <td>83</td>\n",
       "      <td>Pinot Noir</td>\n",
       "      <td>Australia</td>\n",
       "    </tr>\n",
       "  </tbody>\n",
       "</table>\n",
       "</div>"
      ],
      "text/plain": [
       "  Customer_Names  Offer # Gender  Discount    Varietal     Origin\n",
       "0          Smith        2   Male        17  Pinot Noir     France\n",
       "1          Smith       24   Male        34  Pinot Noir      Italy\n",
       "2        Johnson       17   Male        47  Pinot Noir    Germany\n",
       "3        Johnson       24   Male        34  Pinot Noir      Italy\n",
       "4        Johnson       26   Male        83  Pinot Noir  Australia"
      ]
     },
     "execution_count": 6,
     "metadata": {},
     "output_type": "execute_result"
    }
   ],
   "source": [
    "#lets also see the info on transactions\n",
    "transactions.head()"
   ]
  },
  {
   "cell_type": "code",
   "execution_count": 7,
   "metadata": {
    "ExecuteTime": {
     "end_time": "2020-05-07T15:50:44.928022Z",
     "start_time": "2020-05-07T15:50:44.909105Z"
    }
   },
   "outputs": [
    {
     "data": {
      "text/html": [
       "<div>\n",
       "<style scoped>\n",
       "    .dataframe tbody tr th:only-of-type {\n",
       "        vertical-align: middle;\n",
       "    }\n",
       "\n",
       "    .dataframe tbody tr th {\n",
       "        vertical-align: top;\n",
       "    }\n",
       "\n",
       "    .dataframe thead th {\n",
       "        text-align: right;\n",
       "    }\n",
       "</style>\n",
       "<table border=\"1\" class=\"dataframe\">\n",
       "  <thead>\n",
       "    <tr style=\"text-align: right;\">\n",
       "      <th></th>\n",
       "      <th>Customer_Names</th>\n",
       "      <th>Offer #</th>\n",
       "      <th>Gender</th>\n",
       "      <th>Discount</th>\n",
       "      <th>Varietal</th>\n",
       "      <th>Origin</th>\n",
       "    </tr>\n",
       "  </thead>\n",
       "  <tbody>\n",
       "    <tr>\n",
       "      <td>0</td>\n",
       "      <td>Smith</td>\n",
       "      <td>2</td>\n",
       "      <td>Male</td>\n",
       "      <td>17</td>\n",
       "      <td>Pinot Noir</td>\n",
       "      <td>France</td>\n",
       "    </tr>\n",
       "    <tr>\n",
       "      <td>24</td>\n",
       "      <td>Rodriguez</td>\n",
       "      <td>2</td>\n",
       "      <td>Female</td>\n",
       "      <td>17</td>\n",
       "      <td>Pinot Noir</td>\n",
       "      <td>France</td>\n",
       "    </tr>\n",
       "    <tr>\n",
       "      <td>47</td>\n",
       "      <td>Martin</td>\n",
       "      <td>2</td>\n",
       "      <td>Male</td>\n",
       "      <td>17</td>\n",
       "      <td>Pinot Noir</td>\n",
       "      <td>France</td>\n",
       "    </tr>\n",
       "    <tr>\n",
       "      <td>51</td>\n",
       "      <td>Jackson</td>\n",
       "      <td>2</td>\n",
       "      <td>Male</td>\n",
       "      <td>17</td>\n",
       "      <td>Pinot Noir</td>\n",
       "      <td>France</td>\n",
       "    </tr>\n",
       "    <tr>\n",
       "      <td>139</td>\n",
       "      <td>Campbell</td>\n",
       "      <td>2</td>\n",
       "      <td>Male</td>\n",
       "      <td>17</td>\n",
       "      <td>Pinot Noir</td>\n",
       "      <td>France</td>\n",
       "    </tr>\n",
       "    <tr>\n",
       "      <td>143</td>\n",
       "      <td>Mitchell</td>\n",
       "      <td>2</td>\n",
       "      <td>Male</td>\n",
       "      <td>17</td>\n",
       "      <td>Pinot Noir</td>\n",
       "      <td>France</td>\n",
       "    </tr>\n",
       "    <tr>\n",
       "      <td>192</td>\n",
       "      <td>Peterson</td>\n",
       "      <td>2</td>\n",
       "      <td>Female</td>\n",
       "      <td>17</td>\n",
       "      <td>Pinot Noir</td>\n",
       "      <td>France</td>\n",
       "    </tr>\n",
       "    <tr>\n",
       "      <td>205</td>\n",
       "      <td>Bell</td>\n",
       "      <td>2</td>\n",
       "      <td>Female</td>\n",
       "      <td>17</td>\n",
       "      <td>Pinot Noir</td>\n",
       "      <td>France</td>\n",
       "    </tr>\n",
       "    <tr>\n",
       "      <td>221</td>\n",
       "      <td>Cox</td>\n",
       "      <td>2</td>\n",
       "      <td>Female</td>\n",
       "      <td>17</td>\n",
       "      <td>Pinot Noir</td>\n",
       "      <td>France</td>\n",
       "    </tr>\n",
       "    <tr>\n",
       "      <td>318</td>\n",
       "      <td>Fisher</td>\n",
       "      <td>2</td>\n",
       "      <td>Female</td>\n",
       "      <td>17</td>\n",
       "      <td>Pinot Noir</td>\n",
       "      <td>France</td>\n",
       "    </tr>\n",
       "  </tbody>\n",
       "</table>\n",
       "</div>"
      ],
      "text/plain": [
       "    Customer_Names  Offer #  Gender  Discount    Varietal  Origin\n",
       "0            Smith        2    Male        17  Pinot Noir  France\n",
       "24       Rodriguez        2  Female        17  Pinot Noir  France\n",
       "47          Martin        2    Male        17  Pinot Noir  France\n",
       "51         Jackson        2    Male        17  Pinot Noir  France\n",
       "139       Campbell        2    Male        17  Pinot Noir  France\n",
       "143       Mitchell        2    Male        17  Pinot Noir  France\n",
       "192       Peterson        2  Female        17  Pinot Noir  France\n",
       "205           Bell        2  Female        17  Pinot Noir  France\n",
       "221            Cox        2  Female        17  Pinot Noir  France\n",
       "318         Fisher        2  Female        17  Pinot Noir  France"
      ]
     },
     "execution_count": 7,
     "metadata": {},
     "output_type": "execute_result"
    }
   ],
   "source": [
    "transactions[transactions[\"Offer #\"]==2]"
   ]
  },
  {
   "cell_type": "code",
   "execution_count": 8,
   "metadata": {
    "ExecuteTime": {
     "end_time": "2020-05-07T15:50:45.673477Z",
     "start_time": "2020-05-07T15:50:45.667491Z"
    }
   },
   "outputs": [],
   "source": [
    "#For analysis lets remove customer names from the offer info\n",
    "data_2=data.iloc[:,1:]"
   ]
  },
  {
   "cell_type": "code",
   "execution_count": 9,
   "metadata": {
    "ExecuteTime": {
     "end_time": "2020-05-07T15:50:46.837918Z",
     "start_time": "2020-05-07T15:50:46.832932Z"
    }
   },
   "outputs": [],
   "source": [
    "#lets build first with 5 clusters\n",
    "model1_cluster = KMeans(5,random_state=42)"
   ]
  },
  {
   "cell_type": "code",
   "execution_count": 10,
   "metadata": {
    "ExecuteTime": {
     "end_time": "2020-05-07T15:50:47.191032Z",
     "start_time": "2020-05-07T15:50:47.147153Z"
    }
   },
   "outputs": [
    {
     "data": {
      "text/plain": [
       "array([1, 0, 4, 1, 0, 2, 4, 1, 2, 1, 2, 4, 1, 0, 1, 4, 0, 4, 1, 2, 1, 1,\n",
       "       2, 2, 4, 3, 3, 0, 0, 4, 1, 1, 2, 2, 1, 1, 2, 1, 2, 1, 4, 4, 1, 0,\n",
       "       1, 2, 1, 1, 0, 0, 0, 3, 4, 4, 2, 1, 4, 1, 1, 0, 0, 1, 0, 1, 1, 4,\n",
       "       4, 0, 2, 0, 3, 0, 2, 1, 0, 1, 4, 2, 1, 4, 3, 0, 3, 4, 1, 1, 1, 3,\n",
       "       0, 1, 0, 1, 0, 1, 3, 2, 1, 3, 0, 2])"
      ]
     },
     "execution_count": 10,
     "metadata": {},
     "output_type": "execute_result"
    }
   ],
   "source": [
    "model1_cluster.fit_predict(X=data_2)"
   ]
  },
  {
   "cell_type": "code",
   "execution_count": 11,
   "metadata": {
    "ExecuteTime": {
     "end_time": "2020-05-07T15:50:49.229298Z",
     "start_time": "2020-05-07T15:50:49.221324Z"
    },
    "scrolled": false
   },
   "outputs": [
    {
     "data": {
      "text/plain": [
       "array([[ 4.54545455e-02,  4.54545455e-02,  4.54545455e-02,\n",
       "         3.18181818e-01,  9.09090909e-02,  1.81818182e-01,\n",
       "         4.54545455e-02,  4.54545455e-02,  3.18181818e-01,\n",
       "         4.54545455e-02,  2.72727273e-01,  4.54545455e-02,\n",
       "        -3.46944695e-17, -2.77555756e-17,  4.54545455e-02,\n",
       "         1.81818182e-01, -4.16333634e-17, -8.32667268e-17,\n",
       "         9.09090909e-02,  2.27272727e-01,  4.54545455e-02,\n",
       "         0.00000000e+00,  4.54545455e-02, -6.93889390e-17,\n",
       "         1.81818182e-01,  4.54545455e-02,  1.81818182e-01,\n",
       "         1.36363636e-01,  4.54545455e-02,  4.54545455e-02,\n",
       "         4.09090909e-01,  1.36363636e-01],\n",
       "       [-4.16333634e-17, -4.16333634e-17,  2.85714286e-02,\n",
       "        -8.32667268e-17, -1.38777878e-17,  2.85714286e-02,\n",
       "         4.28571429e-01,  4.57142857e-01, -4.16333634e-17,\n",
       "         5.71428571e-02,  2.85714286e-02,  2.85714286e-02,\n",
       "         1.71428571e-01,  2.77555756e-17, -4.16333634e-17,\n",
       "        -2.08166817e-17,  0.00000000e+00,  3.71428571e-01,\n",
       "        -2.08166817e-17, -4.16333634e-17,  2.85714286e-02,\n",
       "         0.00000000e+00, -2.08166817e-17, -8.32667268e-17,\n",
       "        -4.16333634e-17, -5.55111512e-17,  2.85714286e-02,\n",
       "         2.85714286e-02,  4.57142857e-01,  4.85714286e-01,\n",
       "         5.55111512e-17, -1.38777878e-17],\n",
       "       [ 2.35294118e-01,  1.17647059e-01,  2.35294118e-01,\n",
       "         1.76470588e-01,  0.00000000e+00,  2.94117647e-01,\n",
       "         1.76470588e-01,  1.76470588e-01,  5.88235294e-02,\n",
       "         5.88235294e-02,  2.94117647e-01,  1.17647059e-01,\n",
       "        -2.77555756e-17, -1.38777878e-17,  1.17647059e-01,\n",
       "        -6.93889390e-18, -2.77555756e-17,  5.88235294e-02,\n",
       "         1.76470588e-01, -2.77555756e-17,  1.17647059e-01,\n",
       "         1.00000000e+00, -6.93889390e-18, -5.55111512e-17,\n",
       "         5.88235294e-02,  2.77555756e-17,  1.76470588e-01,\n",
       "         1.17647059e-01,  5.55111512e-17,  1.76470588e-01,\n",
       "         3.52941176e-01,  5.88235294e-02],\n",
       "       [ 3.33333333e-01,  1.38777878e-17, -6.93889390e-18,\n",
       "         2.22222222e-01,  2.22222222e-01,  2.22222222e-01,\n",
       "         2.77555756e-17,  2.77555756e-17,  2.22222222e-01,\n",
       "         2.22222222e-01,  1.11111111e-01,  6.93889390e-18,\n",
       "        -6.93889390e-18,  1.00000000e+00,  3.33333333e-01,\n",
       "         6.93889390e-18,  0.00000000e+00,  0.00000000e+00,\n",
       "         6.93889390e-18,  1.11111111e-01,  0.00000000e+00,\n",
       "         4.44444444e-01,  3.33333333e-01, -1.38777878e-17,\n",
       "         1.11111111e-01,  2.22222222e-01,  1.38777878e-17,\n",
       "        -6.93889390e-18,  2.77555756e-17,  1.11111111e-01,\n",
       "         2.22222222e-01,  0.00000000e+00],\n",
       "       [ 1.17647059e-01,  4.11764706e-01, -2.77555756e-17,\n",
       "        -5.55111512e-17,  0.00000000e+00, -5.55111512e-17,\n",
       "         2.77555756e-17, -2.77555756e-17, -1.38777878e-17,\n",
       "         5.88235294e-02,  5.55111512e-17,  5.88235294e-02,\n",
       "        -2.77555756e-17, -1.38777878e-17, -2.77555756e-17,\n",
       "         5.88235294e-02,  4.11764706e-01, -5.55111512e-17,\n",
       "        -6.93889390e-18, -2.77555756e-17,  0.00000000e+00,\n",
       "         0.00000000e+00,  5.88235294e-02,  7.05882353e-01,\n",
       "        -2.77555756e-17,  7.05882353e-01,  5.88235294e-02,\n",
       "        -2.77555756e-17,  5.55111512e-17, -8.32667268e-17,\n",
       "         5.55111512e-17,  0.00000000e+00]])"
      ]
     },
     "execution_count": 11,
     "metadata": {},
     "output_type": "execute_result"
    }
   ],
   "source": [
    "#let's get values of cluster centers\n",
    "model1_cluster.cluster_centers_"
   ]
  },
  {
   "cell_type": "code",
   "execution_count": 12,
   "metadata": {
    "ExecuteTime": {
     "end_time": "2020-05-07T15:50:51.767529Z",
     "start_time": "2020-05-07T15:50:51.761550Z"
    }
   },
   "outputs": [
    {
     "data": {
      "text/plain": [
       "203.76651387827857"
      ]
     },
     "execution_count": 12,
     "metadata": {},
     "output_type": "execute_result"
    }
   ],
   "source": [
    "#let's see Sum of squared distances of samples to their closest cluster center. The smaller the number the better\n",
    "model1_cluster.inertia_"
   ]
  },
  {
   "cell_type": "markdown",
   "metadata": {},
   "source": [
    "# Elbow Method\n",
    "\n",
    "Let's see the optimal number of clusters based on  SSE. There is a method to choose optimal value of k (number of clusters). The method is called elbow method. "
   ]
  },
  {
   "cell_type": "code",
   "execution_count": 13,
   "metadata": {
    "ExecuteTime": {
     "end_time": "2020-05-07T15:50:54.429858Z",
     "start_time": "2020-05-07T15:50:54.102773Z"
    }
   },
   "outputs": [
    {
     "name": "stdout",
     "output_type": "stream",
     "text": [
      "{1: 281.9, 2: 251.46031746031744, 3: 228.3105506822612, 4: 216.95436507936506, 5: 203.76651387827857, 6: 195.38591269841268, 7: 187.12400779045515, 8: 178.82063492063492, 9: 171.77997835497837, 10: 164.792316017316}\n"
     ]
    }
   ],
   "source": [
    "sse={}\n",
    "for k in range(1,11):\n",
    "    cluster_wine=KMeans(k,random_state=42)\n",
    "    cluster_wine.fit_predict(data_2)\n",
    "    sse[k] = cluster_wine.inertia_ #Sum of squared distances of samples to their closest cluster center, \n",
    "                                        #other measures of distances can also be taken\n",
    "        \n",
    "#lets see what sse contains\n",
    "print(sse)"
   ]
  },
  {
   "cell_type": "code",
   "execution_count": 14,
   "metadata": {
    "ExecuteTime": {
     "end_time": "2020-05-07T15:50:55.595630Z",
     "start_time": "2020-05-07T15:50:55.589684Z"
    }
   },
   "outputs": [
    {
     "data": {
      "text/plain": [
       "dict_keys([1, 2, 3, 4, 5, 6, 7, 8, 9, 10])"
      ]
     },
     "execution_count": 14,
     "metadata": {},
     "output_type": "execute_result"
    }
   ],
   "source": [
    "sse.keys()"
   ]
  },
  {
   "cell_type": "code",
   "execution_count": 16,
   "metadata": {
    "ExecuteTime": {
     "end_time": "2020-05-07T15:51:14.519983Z",
     "start_time": "2020-05-07T15:51:14.311593Z"
    }
   },
   "outputs": [
    {
     "data": {
      "image/png": "[encoded data removed]",
      "text/plain": [
       "<Figure size 432x288 with 1 Axes>"
      ]
     },
     "metadata": {
      "needs_background": "light"
     },
     "output_type": "display_data"
    }
   ],
   "source": [
    "#let's visualize SSE values for 10 values of k - Elbow Curve\n",
    "plt.figure()\n",
    "plt.plot(list(sse.keys()),list(sse.values()), marker=\"o\") #sse is dictionary \n",
    "plt.xlabel(\"Number of cluster\")\n",
    "plt.ylabel(\"SSE\")\n",
    "plt.show()"
   ]
  },
  {
   "cell_type": "markdown",
   "metadata": {},
   "source": [
    "# Now let's just use <code>plot_elbow_curve()</code> function to plot elbow curve!"
   ]
  },
  {
   "cell_type": "code",
   "execution_count": 17,
   "metadata": {
    "ExecuteTime": {
     "end_time": "2020-05-07T15:51:16.107516Z",
     "start_time": "2020-05-07T15:51:15.666696Z"
    }
   },
   "outputs": [
    {
     "data": {
      "image/png": "[encoded data removed]",
      "text/plain": [
       "<Figure size 432x288 with 1 Axes>"
      ]
     },
     "metadata": {
      "needs_background": "light"
     },
     "output_type": "display_data"
    }
   ],
   "source": [
    "plot_elbow_curve(KMeans(random_state=42),data_2,cluster_ranges=range(1,10),show_cluster_time=False)\n",
    "plt.show()"
   ]
  },
  {
   "cell_type": "markdown",
   "metadata": {},
   "source": [
    "<b>It seems that 4 is an optimal value for k. However as the elbow plot is not broken enough at that point, it's difficult to choose optimal k from this elbow plot.</b>"
   ]
  },
  {
   "cell_type": "markdown",
   "metadata": {},
   "source": [
    "# Silhouette score method\n",
    "\n",
    "    Silhouette Coefficient is calculated using the mean intra-cluster distance (a) and the mean nearest-cluster distance (b) for each sample. The Silhouette Coefficient for a sample is (b - a) / max(a, b)."
   ]
  },
  {
   "cell_type": "code",
   "execution_count": 18,
   "metadata": {
    "ExecuteTime": {
     "end_time": "2020-05-07T15:51:21.687703Z",
     "start_time": "2020-05-07T15:51:21.347244Z"
    }
   },
   "outputs": [
    {
     "name": "stdout",
     "output_type": "stream",
     "text": [
      "{2: 0.09174871508750351, 3: 0.11542407037894219, 4: 0.09670258360693122, 5: 0.14531568820332333, 6: 0.13313126627114877, 7: 0.13073950771832585, 8: 0.12397572901124844, 9: 0.1202465110942483, 10: 0.12695143123424532}\n"
     ]
    }
   ],
   "source": [
    "sil_coef={}\n",
    "for k in range (2,11): \n",
    "    cluster_wine=KMeans(k,random_state=42)\n",
    "    cluster_wine.fit_predict(data_2)\n",
    "    sil_coef[k]=silhouette_score(data_2,cluster_wine.labels_,metric='euclidean')\n",
    "\n",
    "#Higher Silhouette Coefficient score relates to a model with better defined clusters\n",
    "print(sil_coef)"
   ]
  },
  {
   "cell_type": "code",
   "execution_count": 19,
   "metadata": {
    "ExecuteTime": {
     "end_time": "2020-05-07T15:51:23.432407Z",
     "start_time": "2020-05-07T15:51:23.264545Z"
    }
   },
   "outputs": [
    {
     "data": {
      "image/png": "[encoded data removed]",
      "text/plain": [
       "<Figure size 432x288 with 1 Axes>"
      ]
     },
     "metadata": {
      "needs_background": "light"
     },
     "output_type": "display_data"
    }
   ],
   "source": [
    "plt.figure()\n",
    "plt.plot(list(sil_coef.keys()),list(sil_coef.values()), color='#840101',linewidth=2,marker='o') #sse is dictionary, plotting \n",
    "plt.xlabel(\"Number of cluster\")\n",
    "plt.ylabel(\"Silhouette Score\")\n",
    "plt.show()"
   ]
  },
  {
   "cell_type": "markdown",
   "metadata": {},
   "source": [
    "# Final Model based on the optimal K"
   ]
  },
  {
   "cell_type": "code",
   "execution_count": 20,
   "metadata": {
    "ExecuteTime": {
     "end_time": "2020-05-07T15:51:31.409924Z",
     "start_time": "2020-05-07T15:51:31.369035Z"
    }
   },
   "outputs": [],
   "source": [
    "#let's add cluster labels to our original data\n",
    "cluster_final=KMeans(5,random_state=42)\n",
    "data[\"cluster_final\"]=cluster_final.fit_predict(data_2)"
   ]
  },
  {
   "cell_type": "code",
   "execution_count": 21,
   "metadata": {
    "ExecuteTime": {
     "end_time": "2020-05-07T15:51:31.947309Z",
     "start_time": "2020-05-07T15:51:31.926366Z"
    }
   },
   "outputs": [
    {
     "data": {
      "text/html": [
       "<div>\n",
       "<style scoped>\n",
       "    .dataframe tbody tr th:only-of-type {\n",
       "        vertical-align: middle;\n",
       "    }\n",
       "\n",
       "    .dataframe tbody tr th {\n",
       "        vertical-align: top;\n",
       "    }\n",
       "\n",
       "    .dataframe thead th {\n",
       "        text-align: right;\n",
       "    }\n",
       "</style>\n",
       "<table border=\"1\" class=\"dataframe\">\n",
       "  <thead>\n",
       "    <tr style=\"text-align: right;\">\n",
       "      <th></th>\n",
       "      <th>Customer_Names</th>\n",
       "      <th>Offer_1</th>\n",
       "      <th>Offer_2</th>\n",
       "      <th>Offer_3</th>\n",
       "      <th>Offer_4</th>\n",
       "      <th>Offer_5</th>\n",
       "      <th>Offer_6</th>\n",
       "      <th>Offer_7</th>\n",
       "      <th>Offer_8</th>\n",
       "      <th>Offer_9</th>\n",
       "      <th>...</th>\n",
       "      <th>Offer_24</th>\n",
       "      <th>Offer_25</th>\n",
       "      <th>Offer_26</th>\n",
       "      <th>Offer_27</th>\n",
       "      <th>Offer_28</th>\n",
       "      <th>Offer_29</th>\n",
       "      <th>Offer_30</th>\n",
       "      <th>Offer_31</th>\n",
       "      <th>Offer_32</th>\n",
       "      <th>cluster_final</th>\n",
       "    </tr>\n",
       "  </thead>\n",
       "  <tbody>\n",
       "    <tr>\n",
       "      <td>0</td>\n",
       "      <td>Adams</td>\n",
       "      <td>0</td>\n",
       "      <td>0</td>\n",
       "      <td>0</td>\n",
       "      <td>0</td>\n",
       "      <td>0</td>\n",
       "      <td>0</td>\n",
       "      <td>0</td>\n",
       "      <td>0</td>\n",
       "      <td>0</td>\n",
       "      <td>...</td>\n",
       "      <td>0</td>\n",
       "      <td>0</td>\n",
       "      <td>0</td>\n",
       "      <td>0</td>\n",
       "      <td>0</td>\n",
       "      <td>1</td>\n",
       "      <td>1</td>\n",
       "      <td>0</td>\n",
       "      <td>0</td>\n",
       "      <td>1</td>\n",
       "    </tr>\n",
       "    <tr>\n",
       "      <td>1</td>\n",
       "      <td>Allen</td>\n",
       "      <td>0</td>\n",
       "      <td>0</td>\n",
       "      <td>0</td>\n",
       "      <td>0</td>\n",
       "      <td>0</td>\n",
       "      <td>0</td>\n",
       "      <td>0</td>\n",
       "      <td>0</td>\n",
       "      <td>1</td>\n",
       "      <td>...</td>\n",
       "      <td>0</td>\n",
       "      <td>0</td>\n",
       "      <td>0</td>\n",
       "      <td>1</td>\n",
       "      <td>0</td>\n",
       "      <td>0</td>\n",
       "      <td>0</td>\n",
       "      <td>0</td>\n",
       "      <td>0</td>\n",
       "      <td>0</td>\n",
       "    </tr>\n",
       "    <tr>\n",
       "      <td>2</td>\n",
       "      <td>Anderson</td>\n",
       "      <td>0</td>\n",
       "      <td>0</td>\n",
       "      <td>0</td>\n",
       "      <td>0</td>\n",
       "      <td>0</td>\n",
       "      <td>0</td>\n",
       "      <td>0</td>\n",
       "      <td>0</td>\n",
       "      <td>0</td>\n",
       "      <td>...</td>\n",
       "      <td>1</td>\n",
       "      <td>0</td>\n",
       "      <td>1</td>\n",
       "      <td>0</td>\n",
       "      <td>0</td>\n",
       "      <td>0</td>\n",
       "      <td>0</td>\n",
       "      <td>0</td>\n",
       "      <td>0</td>\n",
       "      <td>4</td>\n",
       "    </tr>\n",
       "    <tr>\n",
       "      <td>3</td>\n",
       "      <td>Bailey</td>\n",
       "      <td>0</td>\n",
       "      <td>0</td>\n",
       "      <td>0</td>\n",
       "      <td>0</td>\n",
       "      <td>0</td>\n",
       "      <td>0</td>\n",
       "      <td>1</td>\n",
       "      <td>0</td>\n",
       "      <td>0</td>\n",
       "      <td>...</td>\n",
       "      <td>0</td>\n",
       "      <td>0</td>\n",
       "      <td>0</td>\n",
       "      <td>0</td>\n",
       "      <td>0</td>\n",
       "      <td>0</td>\n",
       "      <td>1</td>\n",
       "      <td>0</td>\n",
       "      <td>0</td>\n",
       "      <td>1</td>\n",
       "    </tr>\n",
       "    <tr>\n",
       "      <td>4</td>\n",
       "      <td>Baker</td>\n",
       "      <td>0</td>\n",
       "      <td>0</td>\n",
       "      <td>0</td>\n",
       "      <td>0</td>\n",
       "      <td>0</td>\n",
       "      <td>0</td>\n",
       "      <td>1</td>\n",
       "      <td>0</td>\n",
       "      <td>0</td>\n",
       "      <td>...</td>\n",
       "      <td>0</td>\n",
       "      <td>0</td>\n",
       "      <td>0</td>\n",
       "      <td>0</td>\n",
       "      <td>0</td>\n",
       "      <td>0</td>\n",
       "      <td>0</td>\n",
       "      <td>1</td>\n",
       "      <td>0</td>\n",
       "      <td>0</td>\n",
       "    </tr>\n",
       "  </tbody>\n",
       "</table>\n",
       "<p>5 rows × 34 columns</p>\n",
       "</div>"
      ],
      "text/plain": [
       "  Customer_Names  Offer_1  Offer_2  Offer_3  Offer_4  Offer_5  Offer_6  \\\n",
       "0          Adams        0        0        0        0        0        0   \n",
       "1          Allen        0        0        0        0        0        0   \n",
       "2       Anderson        0        0        0        0        0        0   \n",
       "3         Bailey        0        0        0        0        0        0   \n",
       "4          Baker        0        0        0        0        0        0   \n",
       "\n",
       "   Offer_7  Offer_8  Offer_9  ...  Offer_24  Offer_25  Offer_26  Offer_27  \\\n",
       "0        0        0        0  ...         0         0         0         0   \n",
       "1        0        0        1  ...         0         0         0         1   \n",
       "2        0        0        0  ...         1         0         1         0   \n",
       "3        1        0        0  ...         0         0         0         0   \n",
       "4        1        0        0  ...         0         0         0         0   \n",
       "\n",
       "   Offer_28  Offer_29  Offer_30  Offer_31  Offer_32  cluster_final  \n",
       "0         0         1         1         0         0              1  \n",
       "1         0         0         0         0         0              0  \n",
       "2         0         0         0         0         0              4  \n",
       "3         0         0         1         0         0              1  \n",
       "4         0         0         0         1         0              0  \n",
       "\n",
       "[5 rows x 34 columns]"
      ]
     },
     "execution_count": 21,
     "metadata": {},
     "output_type": "execute_result"
    }
   ],
   "source": [
    "data.head()"
   ]
  },
  {
   "cell_type": "code",
   "execution_count": 22,
   "metadata": {
    "ExecuteTime": {
     "end_time": "2020-05-07T15:51:32.612519Z",
     "start_time": "2020-05-07T15:51:32.603544Z"
    }
   },
   "outputs": [
    {
     "data": {
      "text/plain": [
       "1    35\n",
       "0    22\n",
       "4    17\n",
       "2    17\n",
       "3     9\n",
       "Name: cluster_final, dtype: int64"
      ]
     },
     "execution_count": 22,
     "metadata": {},
     "output_type": "execute_result"
    }
   ],
   "source": [
    "# quickly count the number of customers in each cluster\n",
    "data.cluster_final.value_counts()"
   ]
  },
  {
   "cell_type": "markdown",
   "metadata": {},
   "source": [
    "<b> The biggest cluster is the second one (with label 1). </b>"
   ]
  },
  {
   "cell_type": "markdown",
   "metadata": {},
   "source": [
    "# Now let's combine two datasets into one to perform the anlaysis"
   ]
  },
  {
   "cell_type": "code",
   "execution_count": 24,
   "metadata": {
    "ExecuteTime": {
     "end_time": "2020-05-07T15:51:57.386611Z",
     "start_time": "2020-05-07T15:51:57.367696Z"
    }
   },
   "outputs": [
    {
     "data": {
      "text/html": [
       "<div>\n",
       "<style scoped>\n",
       "    .dataframe tbody tr th:only-of-type {\n",
       "        vertical-align: middle;\n",
       "    }\n",
       "\n",
       "    .dataframe tbody tr th {\n",
       "        vertical-align: top;\n",
       "    }\n",
       "\n",
       "    .dataframe thead th {\n",
       "        text-align: right;\n",
       "    }\n",
       "</style>\n",
       "<table border=\"1\" class=\"dataframe\">\n",
       "  <thead>\n",
       "    <tr style=\"text-align: right;\">\n",
       "      <th></th>\n",
       "      <th>Customer_Names</th>\n",
       "      <th>Offer #</th>\n",
       "      <th>Gender</th>\n",
       "      <th>Discount</th>\n",
       "      <th>Varietal</th>\n",
       "      <th>Origin</th>\n",
       "    </tr>\n",
       "  </thead>\n",
       "  <tbody>\n",
       "    <tr>\n",
       "      <td>0</td>\n",
       "      <td>Smith</td>\n",
       "      <td>2</td>\n",
       "      <td>Male</td>\n",
       "      <td>17</td>\n",
       "      <td>Pinot Noir</td>\n",
       "      <td>France</td>\n",
       "    </tr>\n",
       "    <tr>\n",
       "      <td>1</td>\n",
       "      <td>Smith</td>\n",
       "      <td>24</td>\n",
       "      <td>Male</td>\n",
       "      <td>34</td>\n",
       "      <td>Pinot Noir</td>\n",
       "      <td>Italy</td>\n",
       "    </tr>\n",
       "    <tr>\n",
       "      <td>2</td>\n",
       "      <td>Johnson</td>\n",
       "      <td>17</td>\n",
       "      <td>Male</td>\n",
       "      <td>47</td>\n",
       "      <td>Pinot Noir</td>\n",
       "      <td>Germany</td>\n",
       "    </tr>\n",
       "    <tr>\n",
       "      <td>3</td>\n",
       "      <td>Johnson</td>\n",
       "      <td>24</td>\n",
       "      <td>Male</td>\n",
       "      <td>34</td>\n",
       "      <td>Pinot Noir</td>\n",
       "      <td>Italy</td>\n",
       "    </tr>\n",
       "    <tr>\n",
       "      <td>4</td>\n",
       "      <td>Johnson</td>\n",
       "      <td>26</td>\n",
       "      <td>Male</td>\n",
       "      <td>83</td>\n",
       "      <td>Pinot Noir</td>\n",
       "      <td>Australia</td>\n",
       "    </tr>\n",
       "    <tr>\n",
       "      <td>...</td>\n",
       "      <td>...</td>\n",
       "      <td>...</td>\n",
       "      <td>...</td>\n",
       "      <td>...</td>\n",
       "      <td>...</td>\n",
       "      <td>...</td>\n",
       "    </tr>\n",
       "    <tr>\n",
       "      <td>319</td>\n",
       "      <td>Fisher</td>\n",
       "      <td>11</td>\n",
       "      <td>Female</td>\n",
       "      <td>85</td>\n",
       "      <td>Champagne</td>\n",
       "      <td>France</td>\n",
       "    </tr>\n",
       "    <tr>\n",
       "      <td>320</td>\n",
       "      <td>Fisher</td>\n",
       "      <td>22</td>\n",
       "      <td>Female</td>\n",
       "      <td>63</td>\n",
       "      <td>Champagne</td>\n",
       "      <td>France</td>\n",
       "    </tr>\n",
       "    <tr>\n",
       "      <td>321</td>\n",
       "      <td>Fisher</td>\n",
       "      <td>28</td>\n",
       "      <td>Female</td>\n",
       "      <td>56</td>\n",
       "      <td>Cabernet Sauvignon</td>\n",
       "      <td>France</td>\n",
       "    </tr>\n",
       "    <tr>\n",
       "      <td>322</td>\n",
       "      <td>Fisher</td>\n",
       "      <td>30</td>\n",
       "      <td>Female</td>\n",
       "      <td>54</td>\n",
       "      <td>Malbec</td>\n",
       "      <td>France</td>\n",
       "    </tr>\n",
       "    <tr>\n",
       "      <td>323</td>\n",
       "      <td>Fisher</td>\n",
       "      <td>31</td>\n",
       "      <td>Female</td>\n",
       "      <td>89</td>\n",
       "      <td>Champagne</td>\n",
       "      <td>France</td>\n",
       "    </tr>\n",
       "  </tbody>\n",
       "</table>\n",
       "<p>324 rows × 6 columns</p>\n",
       "</div>"
      ],
      "text/plain": [
       "    Customer_Names  Offer #  Gender  Discount            Varietal     Origin\n",
       "0            Smith        2    Male        17          Pinot Noir     France\n",
       "1            Smith       24    Male        34          Pinot Noir      Italy\n",
       "2          Johnson       17    Male        47          Pinot Noir    Germany\n",
       "3          Johnson       24    Male        34          Pinot Noir      Italy\n",
       "4          Johnson       26    Male        83          Pinot Noir  Australia\n",
       "..             ...      ...     ...       ...                 ...        ...\n",
       "319         Fisher       11  Female        85           Champagne     France\n",
       "320         Fisher       22  Female        63           Champagne     France\n",
       "321         Fisher       28  Female        56  Cabernet Sauvignon     France\n",
       "322         Fisher       30  Female        54              Malbec     France\n",
       "323         Fisher       31  Female        89           Champagne     France\n",
       "\n",
       "[324 rows x 6 columns]"
      ]
     },
     "execution_count": 24,
     "metadata": {},
     "output_type": "execute_result"
    }
   ],
   "source": [
    "#We have customer names and can merge using that column\n",
    "transactions"
   ]
  },
  {
   "cell_type": "code",
   "execution_count": 25,
   "metadata": {
    "ExecuteTime": {
     "end_time": "2020-05-07T15:52:00.299676Z",
     "start_time": "2020-05-07T15:52:00.287706Z"
    }
   },
   "outputs": [],
   "source": [
    "final_data=pd.merge(transactions,data[[\"Customer_Names\",\"cluster_final\"]], on=\"Customer_Names\")"
   ]
  },
  {
   "cell_type": "code",
   "execution_count": 26,
   "metadata": {
    "ExecuteTime": {
     "end_time": "2020-05-07T15:52:01.591903Z",
     "start_time": "2020-05-07T15:52:01.561985Z"
    }
   },
   "outputs": [
    {
     "data": {
      "text/html": [
       "<div>\n",
       "<style scoped>\n",
       "    .dataframe tbody tr th:only-of-type {\n",
       "        vertical-align: middle;\n",
       "    }\n",
       "\n",
       "    .dataframe tbody tr th {\n",
       "        vertical-align: top;\n",
       "    }\n",
       "\n",
       "    .dataframe thead th {\n",
       "        text-align: right;\n",
       "    }\n",
       "</style>\n",
       "<table border=\"1\" class=\"dataframe\">\n",
       "  <thead>\n",
       "    <tr style=\"text-align: right;\">\n",
       "      <th></th>\n",
       "      <th>Customer_Names</th>\n",
       "      <th>Offer #</th>\n",
       "      <th>Gender</th>\n",
       "      <th>Discount</th>\n",
       "      <th>Varietal</th>\n",
       "      <th>Origin</th>\n",
       "      <th>cluster_final</th>\n",
       "    </tr>\n",
       "  </thead>\n",
       "  <tbody>\n",
       "    <tr>\n",
       "      <td>0</td>\n",
       "      <td>Smith</td>\n",
       "      <td>2</td>\n",
       "      <td>Male</td>\n",
       "      <td>17</td>\n",
       "      <td>Pinot Noir</td>\n",
       "      <td>France</td>\n",
       "      <td>4</td>\n",
       "    </tr>\n",
       "    <tr>\n",
       "      <td>1</td>\n",
       "      <td>Smith</td>\n",
       "      <td>24</td>\n",
       "      <td>Male</td>\n",
       "      <td>34</td>\n",
       "      <td>Pinot Noir</td>\n",
       "      <td>Italy</td>\n",
       "      <td>4</td>\n",
       "    </tr>\n",
       "    <tr>\n",
       "      <td>2</td>\n",
       "      <td>Johnson</td>\n",
       "      <td>17</td>\n",
       "      <td>Male</td>\n",
       "      <td>47</td>\n",
       "      <td>Pinot Noir</td>\n",
       "      <td>Germany</td>\n",
       "      <td>4</td>\n",
       "    </tr>\n",
       "    <tr>\n",
       "      <td>3</td>\n",
       "      <td>Johnson</td>\n",
       "      <td>24</td>\n",
       "      <td>Male</td>\n",
       "      <td>34</td>\n",
       "      <td>Pinot Noir</td>\n",
       "      <td>Italy</td>\n",
       "      <td>4</td>\n",
       "    </tr>\n",
       "    <tr>\n",
       "      <td>4</td>\n",
       "      <td>Johnson</td>\n",
       "      <td>26</td>\n",
       "      <td>Male</td>\n",
       "      <td>83</td>\n",
       "      <td>Pinot Noir</td>\n",
       "      <td>Australia</td>\n",
       "      <td>4</td>\n",
       "    </tr>\n",
       "    <tr>\n",
       "      <td>...</td>\n",
       "      <td>...</td>\n",
       "      <td>...</td>\n",
       "      <td>...</td>\n",
       "      <td>...</td>\n",
       "      <td>...</td>\n",
       "      <td>...</td>\n",
       "      <td>...</td>\n",
       "    </tr>\n",
       "    <tr>\n",
       "      <td>319</td>\n",
       "      <td>Fisher</td>\n",
       "      <td>11</td>\n",
       "      <td>Female</td>\n",
       "      <td>85</td>\n",
       "      <td>Champagne</td>\n",
       "      <td>France</td>\n",
       "      <td>2</td>\n",
       "    </tr>\n",
       "    <tr>\n",
       "      <td>320</td>\n",
       "      <td>Fisher</td>\n",
       "      <td>22</td>\n",
       "      <td>Female</td>\n",
       "      <td>63</td>\n",
       "      <td>Champagne</td>\n",
       "      <td>France</td>\n",
       "      <td>2</td>\n",
       "    </tr>\n",
       "    <tr>\n",
       "      <td>321</td>\n",
       "      <td>Fisher</td>\n",
       "      <td>28</td>\n",
       "      <td>Female</td>\n",
       "      <td>56</td>\n",
       "      <td>Cabernet Sauvignon</td>\n",
       "      <td>France</td>\n",
       "      <td>2</td>\n",
       "    </tr>\n",
       "    <tr>\n",
       "      <td>322</td>\n",
       "      <td>Fisher</td>\n",
       "      <td>30</td>\n",
       "      <td>Female</td>\n",
       "      <td>54</td>\n",
       "      <td>Malbec</td>\n",
       "      <td>France</td>\n",
       "      <td>2</td>\n",
       "    </tr>\n",
       "    <tr>\n",
       "      <td>323</td>\n",
       "      <td>Fisher</td>\n",
       "      <td>31</td>\n",
       "      <td>Female</td>\n",
       "      <td>89</td>\n",
       "      <td>Champagne</td>\n",
       "      <td>France</td>\n",
       "      <td>2</td>\n",
       "    </tr>\n",
       "  </tbody>\n",
       "</table>\n",
       "<p>324 rows × 7 columns</p>\n",
       "</div>"
      ],
      "text/plain": [
       "    Customer_Names  Offer #  Gender  Discount            Varietal     Origin  \\\n",
       "0            Smith        2    Male        17          Pinot Noir     France   \n",
       "1            Smith       24    Male        34          Pinot Noir      Italy   \n",
       "2          Johnson       17    Male        47          Pinot Noir    Germany   \n",
       "3          Johnson       24    Male        34          Pinot Noir      Italy   \n",
       "4          Johnson       26    Male        83          Pinot Noir  Australia   \n",
       "..             ...      ...     ...       ...                 ...        ...   \n",
       "319         Fisher       11  Female        85           Champagne     France   \n",
       "320         Fisher       22  Female        63           Champagne     France   \n",
       "321         Fisher       28  Female        56  Cabernet Sauvignon     France   \n",
       "322         Fisher       30  Female        54              Malbec     France   \n",
       "323         Fisher       31  Female        89           Champagne     France   \n",
       "\n",
       "     cluster_final  \n",
       "0                4  \n",
       "1                4  \n",
       "2                4  \n",
       "3                4  \n",
       "4                4  \n",
       "..             ...  \n",
       "319              2  \n",
       "320              2  \n",
       "321              2  \n",
       "322              2  \n",
       "323              2  \n",
       "\n",
       "[324 rows x 7 columns]"
      ]
     },
     "execution_count": 26,
     "metadata": {},
     "output_type": "execute_result"
    }
   ],
   "source": [
    "final_data"
   ]
  },
  {
   "cell_type": "code",
   "execution_count": 27,
   "metadata": {
    "ExecuteTime": {
     "end_time": "2020-05-07T15:52:03.847010Z",
     "start_time": "2020-05-07T15:52:03.836038Z"
    }
   },
   "outputs": [
    {
     "data": {
      "text/plain": [
       "cluster_final\n",
       "0    67.397260\n",
       "1    55.673913\n",
       "2    61.459459\n",
       "3    59.200000\n",
       "4    51.422222\n",
       "Name: Discount, dtype: float64"
      ]
     },
     "execution_count": 27,
     "metadata": {},
     "output_type": "execute_result"
    }
   ],
   "source": [
    "#Mean discount by clusters\n",
    "final_data.groupby(\"cluster_final\")[\"Discount\"].mean()"
   ]
  },
  {
   "cell_type": "code",
   "execution_count": 28,
   "metadata": {
    "ExecuteTime": {
     "end_time": "2020-05-07T15:52:06.572218Z",
     "start_time": "2020-05-07T15:52:06.552275Z"
    }
   },
   "outputs": [
    {
     "data": {
      "text/html": [
       "<div>\n",
       "<style scoped>\n",
       "    .dataframe tbody tr th:only-of-type {\n",
       "        vertical-align: middle;\n",
       "    }\n",
       "\n",
       "    .dataframe tbody tr th {\n",
       "        vertical-align: top;\n",
       "    }\n",
       "\n",
       "    .dataframe thead th {\n",
       "        text-align: right;\n",
       "    }\n",
       "</style>\n",
       "<table border=\"1\" class=\"dataframe\">\n",
       "  <thead>\n",
       "    <tr style=\"text-align: right;\">\n",
       "      <th></th>\n",
       "      <th>Customer_Names</th>\n",
       "      <th>Offer #</th>\n",
       "      <th>Gender</th>\n",
       "      <th>Discount</th>\n",
       "      <th>Varietal</th>\n",
       "      <th>Origin</th>\n",
       "      <th>cluster_final</th>\n",
       "    </tr>\n",
       "  </thead>\n",
       "  <tbody>\n",
       "    <tr>\n",
       "      <td>0</td>\n",
       "      <td>Smith</td>\n",
       "      <td>2</td>\n",
       "      <td>Male</td>\n",
       "      <td>17</td>\n",
       "      <td>Pinot Noir</td>\n",
       "      <td>France</td>\n",
       "      <td>4</td>\n",
       "    </tr>\n",
       "    <tr>\n",
       "      <td>1</td>\n",
       "      <td>Smith</td>\n",
       "      <td>24</td>\n",
       "      <td>Male</td>\n",
       "      <td>34</td>\n",
       "      <td>Pinot Noir</td>\n",
       "      <td>Italy</td>\n",
       "      <td>4</td>\n",
       "    </tr>\n",
       "    <tr>\n",
       "      <td>2</td>\n",
       "      <td>Johnson</td>\n",
       "      <td>17</td>\n",
       "      <td>Male</td>\n",
       "      <td>47</td>\n",
       "      <td>Pinot Noir</td>\n",
       "      <td>Germany</td>\n",
       "      <td>4</td>\n",
       "    </tr>\n",
       "    <tr>\n",
       "      <td>3</td>\n",
       "      <td>Johnson</td>\n",
       "      <td>24</td>\n",
       "      <td>Male</td>\n",
       "      <td>34</td>\n",
       "      <td>Pinot Noir</td>\n",
       "      <td>Italy</td>\n",
       "      <td>4</td>\n",
       "    </tr>\n",
       "    <tr>\n",
       "      <td>4</td>\n",
       "      <td>Johnson</td>\n",
       "      <td>26</td>\n",
       "      <td>Male</td>\n",
       "      <td>83</td>\n",
       "      <td>Pinot Noir</td>\n",
       "      <td>Australia</td>\n",
       "      <td>4</td>\n",
       "    </tr>\n",
       "    <tr>\n",
       "      <td>...</td>\n",
       "      <td>...</td>\n",
       "      <td>...</td>\n",
       "      <td>...</td>\n",
       "      <td>...</td>\n",
       "      <td>...</td>\n",
       "      <td>...</td>\n",
       "      <td>...</td>\n",
       "    </tr>\n",
       "    <tr>\n",
       "      <td>319</td>\n",
       "      <td>Fisher</td>\n",
       "      <td>11</td>\n",
       "      <td>Female</td>\n",
       "      <td>85</td>\n",
       "      <td>Champagne</td>\n",
       "      <td>France</td>\n",
       "      <td>2</td>\n",
       "    </tr>\n",
       "    <tr>\n",
       "      <td>320</td>\n",
       "      <td>Fisher</td>\n",
       "      <td>22</td>\n",
       "      <td>Female</td>\n",
       "      <td>63</td>\n",
       "      <td>Champagne</td>\n",
       "      <td>France</td>\n",
       "      <td>2</td>\n",
       "    </tr>\n",
       "    <tr>\n",
       "      <td>321</td>\n",
       "      <td>Fisher</td>\n",
       "      <td>28</td>\n",
       "      <td>Female</td>\n",
       "      <td>56</td>\n",
       "      <td>Cabernet Sauvignon</td>\n",
       "      <td>France</td>\n",
       "      <td>2</td>\n",
       "    </tr>\n",
       "    <tr>\n",
       "      <td>322</td>\n",
       "      <td>Fisher</td>\n",
       "      <td>30</td>\n",
       "      <td>Female</td>\n",
       "      <td>54</td>\n",
       "      <td>Malbec</td>\n",
       "      <td>France</td>\n",
       "      <td>2</td>\n",
       "    </tr>\n",
       "    <tr>\n",
       "      <td>323</td>\n",
       "      <td>Fisher</td>\n",
       "      <td>31</td>\n",
       "      <td>Female</td>\n",
       "      <td>89</td>\n",
       "      <td>Champagne</td>\n",
       "      <td>France</td>\n",
       "      <td>2</td>\n",
       "    </tr>\n",
       "  </tbody>\n",
       "</table>\n",
       "<p>324 rows × 7 columns</p>\n",
       "</div>"
      ],
      "text/plain": [
       "    Customer_Names  Offer #  Gender  Discount            Varietal     Origin  \\\n",
       "0            Smith        2    Male        17          Pinot Noir     France   \n",
       "1            Smith       24    Male        34          Pinot Noir      Italy   \n",
       "2          Johnson       17    Male        47          Pinot Noir    Germany   \n",
       "3          Johnson       24    Male        34          Pinot Noir      Italy   \n",
       "4          Johnson       26    Male        83          Pinot Noir  Australia   \n",
       "..             ...      ...     ...       ...                 ...        ...   \n",
       "319         Fisher       11  Female        85           Champagne     France   \n",
       "320         Fisher       22  Female        63           Champagne     France   \n",
       "321         Fisher       28  Female        56  Cabernet Sauvignon     France   \n",
       "322         Fisher       30  Female        54              Malbec     France   \n",
       "323         Fisher       31  Female        89           Champagne     France   \n",
       "\n",
       "     cluster_final  \n",
       "0                4  \n",
       "1                4  \n",
       "2                4  \n",
       "3                4  \n",
       "4                4  \n",
       "..             ...  \n",
       "319              2  \n",
       "320              2  \n",
       "321              2  \n",
       "322              2  \n",
       "323              2  \n",
       "\n",
       "[324 rows x 7 columns]"
      ]
     },
     "execution_count": 28,
     "metadata": {},
     "output_type": "execute_result"
    }
   ],
   "source": [
    "final_data"
   ]
  },
  {
   "cell_type": "markdown",
   "metadata": {},
   "source": [
    "A groupby operation involves some combination of splitting the object, applying a function, and combining the results. This can be used to group large amounts of data and compute operations on these groups.\n",
    "\"https://pandas.pydata.org/pandas-docs/stable/reference/api/pandas.DataFrame.groupby.html\""
   ]
  },
  {
   "cell_type": "code",
   "execution_count": 31,
   "metadata": {
    "ExecuteTime": {
     "end_time": "2020-05-07T15:52:28.528147Z",
     "start_time": "2020-05-07T15:52:28.516180Z"
    }
   },
   "outputs": [
    {
     "data": {
      "text/plain": [
       "Customer_Names\n",
       "Sanders     9\n",
       "Fisher      7\n",
       "Sanchez     7\n",
       "Miller      7\n",
       "Young       6\n",
       "Harris      6\n",
       "Morales     6\n",
       "Rogers      6\n",
       "Peterson    6\n",
       "Thomas      6\n",
       "Name: Offer #, dtype: int64"
      ]
     },
     "execution_count": 31,
     "metadata": {},
     "output_type": "execute_result"
    }
   ],
   "source": [
    "#Customers that accepted most offers\n",
    "final_data.groupby(\"Customer_Names\")[\"Offer #\"].count().sort_values(ascending=False).head(10)"
   ]
  },
  {
   "cell_type": "code",
   "execution_count": 32,
   "metadata": {
    "ExecuteTime": {
     "end_time": "2020-05-07T15:52:31.919155Z",
     "start_time": "2020-05-07T15:52:31.905192Z"
    }
   },
   "outputs": [
    {
     "data": {
      "text/plain": [
       "cluster_final  Gender\n",
       "0              Female    32\n",
       "               Male      41\n",
       "1              Female    47\n",
       "               Male      45\n",
       "2              Female    42\n",
       "               Male      32\n",
       "3              Female    17\n",
       "               Male      23\n",
       "4              Female    24\n",
       "               Male      21\n",
       "Name: Customer_Names, dtype: int64"
      ]
     },
     "execution_count": 32,
     "metadata": {},
     "output_type": "execute_result"
    }
   ],
   "source": [
    "#number of males and females by cluster\n",
    "final_data.groupby([\"cluster_final\",\"Gender\"]).agg(\"count\")['Customer_Names']"
   ]
  },
  {
   "cell_type": "code",
   "execution_count": 33,
   "metadata": {
    "ExecuteTime": {
     "end_time": "2020-05-07T15:52:34.498000Z",
     "start_time": "2020-05-07T15:52:34.269611Z"
    }
   },
   "outputs": [
    {
     "data": {
      "text/plain": [
       "<matplotlib.axes._subplots.AxesSubplot at 0x1e196aa64c8>"
      ]
     },
     "execution_count": 33,
     "metadata": {},
     "output_type": "execute_result"
    },
    {
     "data": {
      "image/png": "[encoded data removed]",
      "text/plain": [
       "<Figure size 432x288 with 1 Axes>"
      ]
     },
     "metadata": {
      "needs_background": "light"
     },
     "output_type": "display_data"
    }
   ],
   "source": [
    "final_data.groupby([\"cluster_final\",\"Gender\"]).agg(\"count\")['Customer_Names'].plot(kind='bar')"
   ]
  },
  {
   "cell_type": "code",
   "execution_count": 38,
   "metadata": {
    "ExecuteTime": {
     "end_time": "2020-05-07T15:53:41.779331Z",
     "start_time": "2020-05-07T15:53:41.510053Z"
    }
   },
   "outputs": [
    {
     "data": {
      "image/png": "[encoded data removed]",
      "text/plain": [
       "<Figure size 576x432 with 1 Axes>"
      ]
     },
     "metadata": {
      "needs_background": "light"
     },
     "output_type": "display_data"
    }
   ],
   "source": [
    "gender_prop=final_data.groupby([\"cluster_final\",\"Gender\"]).agg(\"count\")['Customer_Names'].groupby(level=0).transform(lambda x: (x/x.sum())*100)\n",
    "gender_prop.unstack(level=0).plot(kind=\"bar\", figsize=(8,6), colormap=\"viridis\")\n",
    "plt.title(\"Gender proportion by clusters\")\n",
    "plt.show()"
   ]
  },
  {
   "cell_type": "code",
   "execution_count": 39,
   "metadata": {
    "ExecuteTime": {
     "end_time": "2020-05-07T15:53:53.842396Z",
     "start_time": "2020-05-07T15:53:53.587017Z"
    }
   },
   "outputs": [
    {
     "data": {
      "image/png": "[encoded data removed]",
      "text/plain": [
       "<Figure size 576x432 with 1 Axes>"
      ]
     },
     "metadata": {
      "needs_background": "light"
     },
     "output_type": "display_data"
    }
   ],
   "source": [
    "gender_prop.unstack(level=1).plot(kind=\"bar\", figsize=(8,6), colormap=\"viridis\")\n",
    "plt.title(\"Gender proportion by clusters\")\n",
    "plt.show()"
   ]
  },
  {
   "cell_type": "code",
   "execution_count": 40,
   "metadata": {
    "ExecuteTime": {
     "end_time": "2020-05-07T15:55:13.505737Z",
     "start_time": "2020-05-07T15:55:13.183601Z"
    }
   },
   "outputs": [
    {
     "data": {
      "image/png": "[encoded data removed]",
      "text/plain": [
       "<Figure size 576x432 with 1 Axes>"
      ]
     },
     "metadata": {
      "needs_background": "light"
     },
     "output_type": "display_data"
    }
   ],
   "source": [
    "final_data.groupby([\"cluster_final\",\"Varietal\"])[\"Varietal\"].count().unstack(level=0).transform(lambda x:x/x.sum()*100).plot(kind=\"barh\", figsize=(8,6), colormap=\"viridis\")\n",
    "plt.title(\"Varietal proportion by clusters\")\n",
    "plt.show()"
   ]
  },
  {
   "cell_type": "code",
   "execution_count": 44,
   "metadata": {
    "ExecuteTime": {
     "end_time": "2020-05-07T15:57:45.681424Z",
     "start_time": "2020-05-07T15:57:45.656489Z"
    }
   },
   "outputs": [],
   "source": [
    "#let's group by cluster, varietal and gender\n",
    "winegender=final_data.groupby([\"cluster_final\",\"Varietal\",\"Gender\"]).size().unstack(\"Gender\",).fillna(0).unstack(\"cluster_final\").transform(lambda x:x/x.sum()*100).fillna(0)"
   ]
  },
  {
   "cell_type": "code",
   "execution_count": 45,
   "metadata": {
    "ExecuteTime": {
     "end_time": "2020-05-07T15:57:46.230117Z",
     "start_time": "2020-05-07T15:57:46.206179Z"
    }
   },
   "outputs": [
    {
     "data": {
      "text/html": [
       "<div>\n",
       "<style scoped>\n",
       "    .dataframe tbody tr th:only-of-type {\n",
       "        vertical-align: middle;\n",
       "    }\n",
       "\n",
       "    .dataframe tbody tr th {\n",
       "        vertical-align: top;\n",
       "    }\n",
       "\n",
       "    .dataframe thead tr th {\n",
       "        text-align: left;\n",
       "    }\n",
       "\n",
       "    .dataframe thead tr:last-of-type th {\n",
       "        text-align: right;\n",
       "    }\n",
       "</style>\n",
       "<table border=\"1\" class=\"dataframe\">\n",
       "  <thead>\n",
       "    <tr>\n",
       "      <th>Gender</th>\n",
       "      <th colspan=\"5\" halign=\"left\">Female</th>\n",
       "      <th colspan=\"5\" halign=\"left\">Male</th>\n",
       "    </tr>\n",
       "    <tr>\n",
       "      <th>cluster_final</th>\n",
       "      <th>0</th>\n",
       "      <th>1</th>\n",
       "      <th>2</th>\n",
       "      <th>3</th>\n",
       "      <th>4</th>\n",
       "      <th>0</th>\n",
       "      <th>1</th>\n",
       "      <th>2</th>\n",
       "      <th>3</th>\n",
       "      <th>4</th>\n",
       "    </tr>\n",
       "    <tr>\n",
       "      <th>Varietal</th>\n",
       "      <th></th>\n",
       "      <th></th>\n",
       "      <th></th>\n",
       "      <th></th>\n",
       "      <th></th>\n",
       "      <th></th>\n",
       "      <th></th>\n",
       "      <th></th>\n",
       "      <th></th>\n",
       "      <th></th>\n",
       "    </tr>\n",
       "  </thead>\n",
       "  <tbody>\n",
       "    <tr>\n",
       "      <td>Cabernet Sauvignon</td>\n",
       "      <td>37.500</td>\n",
       "      <td>0.000000</td>\n",
       "      <td>4.761905</td>\n",
       "      <td>5.882353</td>\n",
       "      <td>0.000000</td>\n",
       "      <td>14.634146</td>\n",
       "      <td>2.222222</td>\n",
       "      <td>12.500</td>\n",
       "      <td>26.086957</td>\n",
       "      <td>0.000000</td>\n",
       "    </tr>\n",
       "    <tr>\n",
       "      <td>Champagne</td>\n",
       "      <td>31.250</td>\n",
       "      <td>2.127660</td>\n",
       "      <td>50.000000</td>\n",
       "      <td>23.529412</td>\n",
       "      <td>4.166667</td>\n",
       "      <td>46.341463</td>\n",
       "      <td>4.444444</td>\n",
       "      <td>56.250</td>\n",
       "      <td>21.739130</td>\n",
       "      <td>0.000000</td>\n",
       "    </tr>\n",
       "    <tr>\n",
       "      <td>Chardonnay</td>\n",
       "      <td>9.375</td>\n",
       "      <td>0.000000</td>\n",
       "      <td>0.000000</td>\n",
       "      <td>17.647059</td>\n",
       "      <td>4.166667</td>\n",
       "      <td>12.195122</td>\n",
       "      <td>0.000000</td>\n",
       "      <td>3.125</td>\n",
       "      <td>8.695652</td>\n",
       "      <td>0.000000</td>\n",
       "    </tr>\n",
       "    <tr>\n",
       "      <td>Espumante</td>\n",
       "      <td>0.000</td>\n",
       "      <td>36.170213</td>\n",
       "      <td>14.285714</td>\n",
       "      <td>0.000000</td>\n",
       "      <td>0.000000</td>\n",
       "      <td>4.878049</td>\n",
       "      <td>28.888889</td>\n",
       "      <td>6.250</td>\n",
       "      <td>0.000000</td>\n",
       "      <td>0.000000</td>\n",
       "    </tr>\n",
       "    <tr>\n",
       "      <td>Malbec</td>\n",
       "      <td>3.125</td>\n",
       "      <td>14.893617</td>\n",
       "      <td>14.285714</td>\n",
       "      <td>17.647059</td>\n",
       "      <td>4.166667</td>\n",
       "      <td>2.439024</td>\n",
       "      <td>22.222222</td>\n",
       "      <td>3.125</td>\n",
       "      <td>4.347826</td>\n",
       "      <td>4.761905</td>\n",
       "    </tr>\n",
       "    <tr>\n",
       "      <td>Merlot</td>\n",
       "      <td>6.250</td>\n",
       "      <td>6.382979</td>\n",
       "      <td>0.000000</td>\n",
       "      <td>23.529412</td>\n",
       "      <td>4.166667</td>\n",
       "      <td>4.878049</td>\n",
       "      <td>6.666667</td>\n",
       "      <td>0.000</td>\n",
       "      <td>21.739130</td>\n",
       "      <td>0.000000</td>\n",
       "    </tr>\n",
       "    <tr>\n",
       "      <td>Pinot Grigio</td>\n",
       "      <td>3.125</td>\n",
       "      <td>14.893617</td>\n",
       "      <td>0.000000</td>\n",
       "      <td>0.000000</td>\n",
       "      <td>0.000000</td>\n",
       "      <td>0.000000</td>\n",
       "      <td>20.000000</td>\n",
       "      <td>0.000</td>\n",
       "      <td>0.000000</td>\n",
       "      <td>0.000000</td>\n",
       "    </tr>\n",
       "    <tr>\n",
       "      <td>Pinot Noir</td>\n",
       "      <td>3.125</td>\n",
       "      <td>0.000000</td>\n",
       "      <td>2.380952</td>\n",
       "      <td>5.882353</td>\n",
       "      <td>75.000000</td>\n",
       "      <td>2.439024</td>\n",
       "      <td>0.000000</td>\n",
       "      <td>3.125</td>\n",
       "      <td>4.347826</td>\n",
       "      <td>95.238095</td>\n",
       "    </tr>\n",
       "    <tr>\n",
       "      <td>Prosecco</td>\n",
       "      <td>6.250</td>\n",
       "      <td>25.531915</td>\n",
       "      <td>14.285714</td>\n",
       "      <td>5.882353</td>\n",
       "      <td>8.333333</td>\n",
       "      <td>12.195122</td>\n",
       "      <td>15.555556</td>\n",
       "      <td>15.625</td>\n",
       "      <td>13.043478</td>\n",
       "      <td>0.000000</td>\n",
       "    </tr>\n",
       "  </tbody>\n",
       "</table>\n",
       "</div>"
      ],
      "text/plain": [
       "Gender              Female                                              \\\n",
       "cluster_final            0          1          2          3          4   \n",
       "Varietal                                                                 \n",
       "Cabernet Sauvignon  37.500   0.000000   4.761905   5.882353   0.000000   \n",
       "Champagne           31.250   2.127660  50.000000  23.529412   4.166667   \n",
       "Chardonnay           9.375   0.000000   0.000000  17.647059   4.166667   \n",
       "Espumante            0.000  36.170213  14.285714   0.000000   0.000000   \n",
       "Malbec               3.125  14.893617  14.285714  17.647059   4.166667   \n",
       "Merlot               6.250   6.382979   0.000000  23.529412   4.166667   \n",
       "Pinot Grigio         3.125  14.893617   0.000000   0.000000   0.000000   \n",
       "Pinot Noir           3.125   0.000000   2.380952   5.882353  75.000000   \n",
       "Prosecco             6.250  25.531915  14.285714   5.882353   8.333333   \n",
       "\n",
       "Gender                   Male                                           \n",
       "cluster_final               0          1       2          3          4  \n",
       "Varietal                                                                \n",
       "Cabernet Sauvignon  14.634146   2.222222  12.500  26.086957   0.000000  \n",
       "Champagne           46.341463   4.444444  56.250  21.739130   0.000000  \n",
       "Chardonnay          12.195122   0.000000   3.125   8.695652   0.000000  \n",
       "Espumante            4.878049  28.888889   6.250   0.000000   0.000000  \n",
       "Malbec               2.439024  22.222222   3.125   4.347826   4.761905  \n",
       "Merlot               4.878049   6.666667   0.000  21.739130   0.000000  \n",
       "Pinot Grigio         0.000000  20.000000   0.000   0.000000   0.000000  \n",
       "Pinot Noir           2.439024   0.000000   3.125   4.347826  95.238095  \n",
       "Prosecco            12.195122  15.555556  15.625  13.043478   0.000000  "
      ]
     },
     "execution_count": 45,
     "metadata": {},
     "output_type": "execute_result"
    }
   ],
   "source": [
    "winegender"
   ]
  },
  {
   "cell_type": "code",
   "execution_count": 65,
   "metadata": {
    "ExecuteTime": {
     "end_time": "2020-05-07T09:56:14.916862Z",
     "start_time": "2020-05-07T09:56:14.901904Z"
    }
   },
   "outputs": [],
   "source": [
    "just=final_data.groupby([\"cluster_final\",\"Varietal\",\"Gender\"]).size().unstack(\"Gender\",).fillna(0).unstack(\"cluster_final\")"
   ]
  },
  {
   "cell_type": "code",
   "execution_count": 66,
   "metadata": {
    "ExecuteTime": {
     "end_time": "2020-05-07T09:56:15.278144Z",
     "start_time": "2020-05-07T09:56:15.256207Z"
    }
   },
   "outputs": [
    {
     "data": {
      "text/html": [
       "<div>\n",
       "<style scoped>\n",
       "    .dataframe tbody tr th:only-of-type {\n",
       "        vertical-align: middle;\n",
       "    }\n",
       "\n",
       "    .dataframe tbody tr th {\n",
       "        vertical-align: top;\n",
       "    }\n",
       "\n",
       "    .dataframe thead tr th {\n",
       "        text-align: left;\n",
       "    }\n",
       "\n",
       "    .dataframe thead tr:last-of-type th {\n",
       "        text-align: right;\n",
       "    }\n",
       "</style>\n",
       "<table border=\"1\" class=\"dataframe\">\n",
       "  <thead>\n",
       "    <tr>\n",
       "      <th>Gender</th>\n",
       "      <th colspan=\"4\" halign=\"left\">Female</th>\n",
       "      <th colspan=\"4\" halign=\"left\">Male</th>\n",
       "    </tr>\n",
       "    <tr>\n",
       "      <th>cluster_final</th>\n",
       "      <th>0</th>\n",
       "      <th>1</th>\n",
       "      <th>2</th>\n",
       "      <th>3</th>\n",
       "      <th>0</th>\n",
       "      <th>1</th>\n",
       "      <th>2</th>\n",
       "      <th>3</th>\n",
       "    </tr>\n",
       "    <tr>\n",
       "      <th>Varietal</th>\n",
       "      <th></th>\n",
       "      <th></th>\n",
       "      <th></th>\n",
       "      <th></th>\n",
       "      <th></th>\n",
       "      <th></th>\n",
       "      <th></th>\n",
       "      <th></th>\n",
       "    </tr>\n",
       "  </thead>\n",
       "  <tbody>\n",
       "    <tr>\n",
       "      <td>Cabernet Sauvignon</td>\n",
       "      <td>6.0</td>\n",
       "      <td>9.0</td>\n",
       "      <td>NaN</td>\n",
       "      <td>0.0</td>\n",
       "      <td>4.0</td>\n",
       "      <td>12.0</td>\n",
       "      <td>NaN</td>\n",
       "      <td>1.0</td>\n",
       "    </tr>\n",
       "    <tr>\n",
       "      <td>Champagne</td>\n",
       "      <td>12.0</td>\n",
       "      <td>24.0</td>\n",
       "      <td>1.0</td>\n",
       "      <td>0.0</td>\n",
       "      <td>11.0</td>\n",
       "      <td>32.0</td>\n",
       "      <td>0.0</td>\n",
       "      <td>1.0</td>\n",
       "    </tr>\n",
       "    <tr>\n",
       "      <td>Chardonnay</td>\n",
       "      <td>2.0</td>\n",
       "      <td>4.0</td>\n",
       "      <td>1.0</td>\n",
       "      <td>0.0</td>\n",
       "      <td>4.0</td>\n",
       "      <td>3.0</td>\n",
       "      <td>0.0</td>\n",
       "      <td>1.0</td>\n",
       "    </tr>\n",
       "    <tr>\n",
       "      <td>Espumante</td>\n",
       "      <td>13.0</td>\n",
       "      <td>3.0</td>\n",
       "      <td>NaN</td>\n",
       "      <td>7.0</td>\n",
       "      <td>5.0</td>\n",
       "      <td>2.0</td>\n",
       "      <td>NaN</td>\n",
       "      <td>10.0</td>\n",
       "    </tr>\n",
       "    <tr>\n",
       "      <td>Malbec</td>\n",
       "      <td>NaN</td>\n",
       "      <td>10.0</td>\n",
       "      <td>1.0</td>\n",
       "      <td>7.0</td>\n",
       "      <td>NaN</td>\n",
       "      <td>2.0</td>\n",
       "      <td>1.0</td>\n",
       "      <td>11.0</td>\n",
       "    </tr>\n",
       "    <tr>\n",
       "      <td>Merlot</td>\n",
       "      <td>4.0</td>\n",
       "      <td>4.0</td>\n",
       "      <td>NaN</td>\n",
       "      <td>2.0</td>\n",
       "      <td>2.0</td>\n",
       "      <td>4.0</td>\n",
       "      <td>NaN</td>\n",
       "      <td>4.0</td>\n",
       "    </tr>\n",
       "    <tr>\n",
       "      <td>Pinot Grigio</td>\n",
       "      <td>3.0</td>\n",
       "      <td>1.0</td>\n",
       "      <td>NaN</td>\n",
       "      <td>4.0</td>\n",
       "      <td>2.0</td>\n",
       "      <td>0.0</td>\n",
       "      <td>NaN</td>\n",
       "      <td>7.0</td>\n",
       "    </tr>\n",
       "    <tr>\n",
       "      <td>Pinot Noir</td>\n",
       "      <td>1.0</td>\n",
       "      <td>3.0</td>\n",
       "      <td>17.0</td>\n",
       "      <td>NaN</td>\n",
       "      <td>0.0</td>\n",
       "      <td>3.0</td>\n",
       "      <td>20.0</td>\n",
       "      <td>NaN</td>\n",
       "    </tr>\n",
       "    <tr>\n",
       "      <td>Prosecco</td>\n",
       "      <td>13.0</td>\n",
       "      <td>5.0</td>\n",
       "      <td>1.0</td>\n",
       "      <td>4.0</td>\n",
       "      <td>7.0</td>\n",
       "      <td>8.0</td>\n",
       "      <td>0.0</td>\n",
       "      <td>5.0</td>\n",
       "    </tr>\n",
       "  </tbody>\n",
       "</table>\n",
       "</div>"
      ],
      "text/plain": [
       "Gender             Female                   Male                  \n",
       "cluster_final           0     1     2    3     0     1     2     3\n",
       "Varietal                                                          \n",
       "Cabernet Sauvignon    6.0   9.0   NaN  0.0   4.0  12.0   NaN   1.0\n",
       "Champagne            12.0  24.0   1.0  0.0  11.0  32.0   0.0   1.0\n",
       "Chardonnay            2.0   4.0   1.0  0.0   4.0   3.0   0.0   1.0\n",
       "Espumante            13.0   3.0   NaN  7.0   5.0   2.0   NaN  10.0\n",
       "Malbec                NaN  10.0   1.0  7.0   NaN   2.0   1.0  11.0\n",
       "Merlot                4.0   4.0   NaN  2.0   2.0   4.0   NaN   4.0\n",
       "Pinot Grigio          3.0   1.0   NaN  4.0   2.0   0.0   NaN   7.0\n",
       "Pinot Noir            1.0   3.0  17.0  NaN   0.0   3.0  20.0   NaN\n",
       "Prosecco             13.0   5.0   1.0  4.0   7.0   8.0   0.0   5.0"
      ]
     },
     "execution_count": 66,
     "metadata": {},
     "output_type": "execute_result"
    }
   ],
   "source": [
    "just"
   ]
  },
  {
   "cell_type": "code",
   "execution_count": 67,
   "metadata": {
    "ExecuteTime": {
     "end_time": "2020-05-07T09:56:19.234516Z",
     "start_time": "2020-05-07T09:56:19.018094Z"
    }
   },
   "outputs": [
    {
     "data": {
      "image/png": "[encoded data removed]",
      "text/plain": [
       "<Figure size 432x288 with 1 Axes>"
      ]
     },
     "metadata": {
      "needs_background": "light"
     },
     "output_type": "display_data"
    }
   ],
   "source": [
    "just.xs(\"Pinot Noir\").unstack().plot(kind=\"bar\")\n",
    "plt.show()"
   ]
  }
 ],
 "metadata": {
  "kernelspec": {
   "display_name": "Python 3 (ipykernel)",
   "language": "python",
   "name": "python3"
  },
  "language_info": {
   "codemirror_mode": {
    "name": "ipython",
    "version": 3
   },
   "file_extension": ".py",
   "mimetype": "text/x-python",
   "name": "python",
   "nbconvert_exporter": "python",
   "pygments_lexer": "ipython3",
   "version": "3.9.7"
  },
  "toc": {
   "base_numbering": 1,
   "nav_menu": {},
   "number_sections": true,
   "sideBar": true,
   "skip_h1_title": false,
   "title_cell": "Table of Contents",
   "title_sidebar": "Contents",
   "toc_cell": false,
   "toc_position": {},
   "toc_section_display": true,
   "toc_window_display": false
  }
 },
 "nbformat": 4,
 "nbformat_minor": 2
}
